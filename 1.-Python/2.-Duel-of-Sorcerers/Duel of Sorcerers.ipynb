{
 "cells": [
  {
   "cell_type": "code",
   "execution_count": 1,
   "metadata": {},
   "outputs": [
    {
     "data": {
      "text/plain": [
       "10"
      ]
     },
     "execution_count": 1,
     "metadata": {},
     "output_type": "execute_result"
    }
   ],
   "source": [
    "gandalf = [10, 11, 13, 30, 22, 11, 10, 33, 22, 22]\n",
    "saruman = [23, 66, 12, 43, 12, 10, 44, 23, 12, 17]\n",
    "len(gandalf)"
   ]
  },
  {
   "cell_type": "code",
   "execution_count": 2,
   "metadata": {},
   "outputs": [],
   "source": [
    "spells = 10"
   ]
  },
  {
   "cell_type": "code",
   "execution_count": 3,
   "metadata": {},
   "outputs": [],
   "source": [
    "gandalf_wins = 0\n",
    "saruman_wins = 0"
   ]
  },
  {
   "cell_type": "code",
   "execution_count": 4,
   "metadata": {},
   "outputs": [
    {
     "name": "stdout",
     "output_type": "stream",
     "text": [
      "Total wins for gandalf =  6 wins.\n",
      "Total wins for gandalf =  4 wins.\n"
     ]
    }
   ],
   "source": [
    "for spells in zip(gandalf, saruman):\n",
    "    if spells[0] > spells[1]: \n",
    "        gandalf_wins += 1\n",
    "    elif spells [1] > spells [0]: \n",
    "        saruman_wins += 1\n",
    "\n",
    "print(\"Total wins for gandalf = \", gandalf_wins, \"wins.\")\n",
    "print(\"Total wins for gandalf = \", saruman_wins, \"wins.\")"
   ]
  },
  {
   "cell_type": "code",
   "execution_count": 9,
   "metadata": {},
   "outputs": [],
   "source": [
    "gandalf_wins = 6\n",
    "saruman_wins = 4\n",
    "\n",
    "if gandalf_wins < 4:\n",
    "    print(\"Saruman won the battle.\")\n",
    "elif saruman_wins > 6:\n",
    "    print(\"Gandalf won the battle.\") \n",
    "elif saruman_wins == gandalf_wins:\n",
    "    print(\"It was a draw.\") "
   ]
  },
  {
   "cell_type": "code",
   "execution_count": 10,
   "metadata": {},
   "outputs": [],
   "source": [
    "gandalf_wins = 6\n",
    "saruman_wins = 4\n",
    "\n",
    "if gandalf_wins < 4:\n",
    "    print(\"Saruman won the battle.\")\n",
    "elif saruman_wins > 6:\n",
    "    print(\"Gandalf won the battle.\") \n",
    "elif saruman_wins == gandalf_wins:\n",
    "    print(\"It was a draw.\") "
   ]
  },
  {
   "cell_type": "code",
   "execution_count": 11,
   "metadata": {},
   "outputs": [
    {
     "name": "stdout",
     "output_type": "stream",
     "text": [
      "Gandalf wins.\n"
     ]
    }
   ],
   "source": [
    "gandalf_wins = 6\n",
    "saruman_wins = 4\n",
    "\n",
    "if gandalf_wins > saruman_wins:\n",
    "    print(\"Gandalf wins.\")\n",
    "    if saruman_wins > gandalf_wins:\n",
    "        print(\"Saruman wins.\")\n",
    "        if gandalf_wins == saruman_wins:\n",
    "            print(\"It was a draw.\")"
   ]
  },
  {
   "cell_type": "code",
   "execution_count": null,
   "metadata": {},
   "outputs": [],
   "source": []
  }
 ],
 "metadata": {
  "kernelspec": {
   "display_name": "Python 3",
   "language": "python",
   "name": "python3"
  },
  "language_info": {
   "codemirror_mode": {
    "name": "ipython",
    "version": 3
   },
   "file_extension": ".py",
   "mimetype": "text/x-python",
   "name": "python",
   "nbconvert_exporter": "python",
   "pygments_lexer": "ipython3",
   "version": "3.8.5"
  }
 },
 "nbformat": 4,
 "nbformat_minor": 4
}
