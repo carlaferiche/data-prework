{
 "cells": [
  {
   "cell_type": "code",
   "execution_count": 1,
   "metadata": {},
   "outputs": [
    {
     "name": "stdout",
     "output_type": "stream",
     "text": [
      "5\n"
     ]
    }
   ],
   "source": [
    "points = [(4, 5), (-0, 2), (4, 7), (1, -3), (3, -2), (4, 5), (3, 2), (5, 7), (-5, 7), (2, 2), (-4, 5), (0, -2),\n",
    "          (-4, 7), (-1, 3), (-3, 2), (-4, -5), (-3, 2), (5, 7), (5, 7), (2, 2), (9, 9), (-8, -9)]\n",
    "points_duplicates = set(points)\n",
    "x = len(points)-len(points_duplicates)\n",
    "print(x)"
   ]
  },
  {
   "cell_type": "code",
   "execution_count": 2,
   "metadata": {},
   "outputs": [
    {
     "name": "stdout",
     "output_type": "stream",
     "text": [
      "10\n",
      "6\n",
      "2\n",
      "2\n"
     ]
    }
   ],
   "source": [
    "print(sum(x > 0 and y > 0 for x,y in points))\n",
    "print(sum(x < 0 and y > 0 for x,y in points))\n",
    "print(sum(x < 0 and y < 0 for x,y in points))\n",
    "print(sum(x > 0 and y < 0 for x,y in points))"
   ]
  },
  {
   "cell_type": "code",
   "execution_count": 3,
   "metadata": {},
   "outputs": [
    {
     "name": "stdout",
     "output_type": "stream",
     "text": [
      "[6.4031242374328485, 2.0, 8.06225774829855, 3.1622776601683795, 3.605551275463989, 6.4031242374328485, 3.605551275463989, 8.602325267042627, 8.602325267042627, 2.8284271247461903, 6.4031242374328485, 2.0, 8.06225774829855, 3.1622776601683795, 3.605551275463989, 6.4031242374328485, 3.605551275463989, 8.602325267042627, 8.602325267042627, 2.8284271247461903, 12.727922061357855, 12.041594578792296]\n"
     ]
    }
   ],
   "source": [
    "import math\n",
    "distance_points=[]\n",
    "def euclidean_distance (points):\n",
    "    return math.sqrt((x**2+y**2))\n",
    "\n",
    "for(x,y) in (points):\n",
    "    distance=euclidean_distance(points)\n",
    "    distance_points.append(distance)\n",
    "    \n",
    "print(distance_points)"
   ]
  },
  {
   "cell_type": "code",
   "execution_count": 4,
   "metadata": {},
   "outputs": [
    {
     "data": {
      "text/plain": [
       "2.0"
      ]
     },
     "execution_count": 4,
     "metadata": {},
     "output_type": "execute_result"
    }
   ],
   "source": [
    "min(distance_points)"
   ]
  },
  {
   "cell_type": "code",
   "execution_count": 7,
   "metadata": {},
   "outputs": [
    {
     "name": "stdout",
     "output_type": "stream",
     "text": [
      "[(0, 2), (0, -2)]\n",
      "2.0\n"
     ]
    }
   ],
   "source": [
    "# Find the point closet to the center.\n",
    "# Defining a funcion that calculates the distance to the center\n",
    "\n",
    "counter = 0\n",
    "\n",
    "closest_point = []\n",
    "\n",
    "for i in (distance_points):\n",
    "    if i == min(distance_points):\n",
    "        closest_point.append(points[counter])\n",
    "    counter += 1\n",
    "    \n",
    "print(closest_point)\n",
    "print(min(distance_points))"
   ]
  },
  {
   "cell_type": "code",
   "execution_count": null,
   "metadata": {},
   "outputs": [],
   "source": []
  }
 ],
 "metadata": {
  "kernelspec": {
   "display_name": "Python 3",
   "language": "python",
   "name": "python3"
  },
  "language_info": {
   "codemirror_mode": {
    "name": "ipython",
    "version": 3
   },
   "file_extension": ".py",
   "mimetype": "text/x-python",
   "name": "python",
   "nbconvert_exporter": "python",
   "pygments_lexer": "ipython3",
   "version": "3.8.5"
  }
 },
 "nbformat": 4,
 "nbformat_minor": 4
}
